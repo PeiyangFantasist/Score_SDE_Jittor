{
 "cells": [
  {
   "cell_type": "code",
   "execution_count": 3,
   "id": "07d1c7e2",
   "metadata": {},
   "outputs": [
    {
     "data": {
      "text/plain": [
       "jt.Var([[ 1  4]\n",
       "        [ 9 16]], dtype=int32)"
      ]
     },
     "execution_count": 3,
     "metadata": {},
     "output_type": "execute_result"
    }
   ],
   "source": [
    "import jittor as jt\n",
    "\n",
    "# 定义两个张量\n",
    "a = jt.array([[1, 2], [3, 4]])\n",
    "b = jt.array([[5, 6], [7, 8]])\n",
    "c = jt.pow(a, 2)\n",
    "c"
   ]
  },
  {
   "cell_type": "code",
   "execution_count": 26,
   "id": "4655a642",
   "metadata": {},
   "outputs": [
    {
     "name": "stdout",
     "output_type": "stream",
     "text": [
      "Help on getset descriptor jittor.jittor_core.Var.shape:\n",
      "\n",
      "shape\n",
      "    Document:\n",
      "    * \n",
      "         * return the shape of the Var.\n",
      "         \n",
      "    Declaration:\n",
      "    inline NanoVector shape()\n",
      "\n",
      "[2,2,]\n"
     ]
    }
   ],
   "source": [
    "from numpy import dtype\n",
    "\n",
    "\n",
    "help(jt.Var.shape)\n",
    "print(a.shape)"
   ]
  },
  {
   "cell_type": "code",
   "execution_count": 27,
   "id": "df45ec0c",
   "metadata": {},
   "outputs": [
    {
     "ename": "RuntimeError",
     "evalue": "Wrong inputs arguments, Please refer to examples(help(jt.numpy)).\n\nTypes of your inputs are:\n self\t= Var,\n args\t= (),\n\nThe function declarations are:\n ArrayArgs fetch_sync()\n\nFailed reason:\u001b[38;5;1m[f 0831 17:35:15.687319 44 parallel_compiler.cc:331] Error happend during compilation:\n [Error] source file location:/home/a516/.cache/jittor/jt1.3.9/g++12.3.0/py3.8.20/Linux-6.6.87.2xef/13thGenIntelRCx37/4832/default/cu12.8.61/jit/code__IN_SIZE_2__in0_dim_1__in0_type_int32__in1_dim_1__in1_type_int32__OUT_SIZE_2__out0_di___hash_fdebb71a9f996516_op.cc\nCompile operator(0/2)failed:Op(1066:0:2:2:i2:o2:s0:g1,code->...)\n\nReason: \u001b[38;5;1m[f 0831 17:35:12.596987 64:C0 op_compiler.cc:719] \u001b[38;5;1m[f 0831 17:35:12.596982 64:C0 op_compiler.cc:719] \u001b[38;5;1m[f 0831 17:35:12.596974 64:C0 op_compiler.cc:719] \u001b[38;5;1m[f 0831 17:35:12.596951 64:C0 op_compiler.cc:687] Check failed macros.at(dim)(1) == S(args.size())(2) out dimension not matched\u001b[m\nJit compiler error:\n                            @out(i, j) = @in0(i, j) + @in1(i, j);\u001b[m\nJit compiler error:\n@HEADER\u001b[m\nJit compiler error:\n#ifndef JIT\u001b[m\n\u001b[m",
     "output_type": "error",
     "traceback": [
      "\u001b[0;31m---------------------------------------------------------------------------\u001b[0m",
      "\u001b[0;31mRuntimeError\u001b[0m                              Traceback (most recent call last)",
      "\u001b[0;32m~/anaconda3/envs/Jittor/lib/python3.8/site-packages/IPython/core/formatters.py\u001b[0m in \u001b[0;36m__call__\u001b[0;34m(self, obj)\u001b[0m\n\u001b[1;32m    700\u001b[0m                 \u001b[0mtype_pprinters\u001b[0m\u001b[0;34m=\u001b[0m\u001b[0mself\u001b[0m\u001b[0;34m.\u001b[0m\u001b[0mtype_printers\u001b[0m\u001b[0;34m,\u001b[0m\u001b[0;34m\u001b[0m\u001b[0;34m\u001b[0m\u001b[0m\n\u001b[1;32m    701\u001b[0m                 deferred_pprinters=self.deferred_printers)\n\u001b[0;32m--> 702\u001b[0;31m             \u001b[0mprinter\u001b[0m\u001b[0;34m.\u001b[0m\u001b[0mpretty\u001b[0m\u001b[0;34m(\u001b[0m\u001b[0mobj\u001b[0m\u001b[0;34m)\u001b[0m\u001b[0;34m\u001b[0m\u001b[0;34m\u001b[0m\u001b[0m\n\u001b[0m\u001b[1;32m    703\u001b[0m             \u001b[0mprinter\u001b[0m\u001b[0;34m.\u001b[0m\u001b[0mflush\u001b[0m\u001b[0;34m(\u001b[0m\u001b[0;34m)\u001b[0m\u001b[0;34m\u001b[0m\u001b[0;34m\u001b[0m\u001b[0m\n\u001b[1;32m    704\u001b[0m             \u001b[0;32mreturn\u001b[0m \u001b[0mstream\u001b[0m\u001b[0;34m.\u001b[0m\u001b[0mgetvalue\u001b[0m\u001b[0;34m(\u001b[0m\u001b[0;34m)\u001b[0m\u001b[0;34m\u001b[0m\u001b[0;34m\u001b[0m\u001b[0m\n",
      "\u001b[0;32m~/anaconda3/envs/Jittor/lib/python3.8/site-packages/IPython/lib/pretty.py\u001b[0m in \u001b[0;36mpretty\u001b[0;34m(self, obj)\u001b[0m\n\u001b[1;32m    392\u001b[0m                         \u001b[0;32mif\u001b[0m \u001b[0mcls\u001b[0m \u001b[0;32mis\u001b[0m \u001b[0;32mnot\u001b[0m \u001b[0mobject\u001b[0m\u001b[0;31m \u001b[0m\u001b[0;31m\\\u001b[0m\u001b[0;34m\u001b[0m\u001b[0;34m\u001b[0m\u001b[0m\n\u001b[1;32m    393\u001b[0m                                 \u001b[0;32mand\u001b[0m \u001b[0mcallable\u001b[0m\u001b[0;34m(\u001b[0m\u001b[0mcls\u001b[0m\u001b[0;34m.\u001b[0m\u001b[0m__dict__\u001b[0m\u001b[0;34m.\u001b[0m\u001b[0mget\u001b[0m\u001b[0;34m(\u001b[0m\u001b[0;34m'__repr__'\u001b[0m\u001b[0;34m)\u001b[0m\u001b[0;34m)\u001b[0m\u001b[0;34m:\u001b[0m\u001b[0;34m\u001b[0m\u001b[0;34m\u001b[0m\u001b[0m\n\u001b[0;32m--> 394\u001b[0;31m                             \u001b[0;32mreturn\u001b[0m \u001b[0m_repr_pprint\u001b[0m\u001b[0;34m(\u001b[0m\u001b[0mobj\u001b[0m\u001b[0;34m,\u001b[0m \u001b[0mself\u001b[0m\u001b[0;34m,\u001b[0m \u001b[0mcycle\u001b[0m\u001b[0;34m)\u001b[0m\u001b[0;34m\u001b[0m\u001b[0;34m\u001b[0m\u001b[0m\n\u001b[0m\u001b[1;32m    395\u001b[0m \u001b[0;34m\u001b[0m\u001b[0m\n\u001b[1;32m    396\u001b[0m             \u001b[0;32mreturn\u001b[0m \u001b[0m_default_pprint\u001b[0m\u001b[0;34m(\u001b[0m\u001b[0mobj\u001b[0m\u001b[0;34m,\u001b[0m \u001b[0mself\u001b[0m\u001b[0;34m,\u001b[0m \u001b[0mcycle\u001b[0m\u001b[0;34m)\u001b[0m\u001b[0;34m\u001b[0m\u001b[0;34m\u001b[0m\u001b[0m\n",
      "\u001b[0;32m~/anaconda3/envs/Jittor/lib/python3.8/site-packages/IPython/lib/pretty.py\u001b[0m in \u001b[0;36m_repr_pprint\u001b[0;34m(obj, p, cycle)\u001b[0m\n\u001b[1;32m    698\u001b[0m     \u001b[0;34m\"\"\"A pprint that just redirects to the normal repr function.\"\"\"\u001b[0m\u001b[0;34m\u001b[0m\u001b[0;34m\u001b[0m\u001b[0m\n\u001b[1;32m    699\u001b[0m     \u001b[0;31m# Find newlines and replace them with p.break_()\u001b[0m\u001b[0;34m\u001b[0m\u001b[0;34m\u001b[0m\u001b[0;34m\u001b[0m\u001b[0m\n\u001b[0;32m--> 700\u001b[0;31m     \u001b[0moutput\u001b[0m \u001b[0;34m=\u001b[0m \u001b[0mrepr\u001b[0m\u001b[0;34m(\u001b[0m\u001b[0mobj\u001b[0m\u001b[0;34m)\u001b[0m\u001b[0;34m\u001b[0m\u001b[0;34m\u001b[0m\u001b[0m\n\u001b[0m\u001b[1;32m    701\u001b[0m     \u001b[0mlines\u001b[0m \u001b[0;34m=\u001b[0m \u001b[0moutput\u001b[0m\u001b[0;34m.\u001b[0m\u001b[0msplitlines\u001b[0m\u001b[0;34m(\u001b[0m\u001b[0;34m)\u001b[0m\u001b[0;34m\u001b[0m\u001b[0;34m\u001b[0m\u001b[0m\n\u001b[1;32m    702\u001b[0m     \u001b[0;32mwith\u001b[0m \u001b[0mp\u001b[0m\u001b[0;34m.\u001b[0m\u001b[0mgroup\u001b[0m\u001b[0;34m(\u001b[0m\u001b[0;34m)\u001b[0m\u001b[0;34m:\u001b[0m\u001b[0;34m\u001b[0m\u001b[0;34m\u001b[0m\u001b[0m\n",
      "\u001b[0;32m~/anaconda3/envs/Jittor/lib/python3.8/site-packages/jittor/__init__.py\u001b[0m in \u001b[0;36mvtos\u001b[0;34m(v)\u001b[0m\n\u001b[1;32m   2086\u001b[0m \u001b[0;34m\u001b[0m\u001b[0m\n\u001b[1;32m   2087\u001b[0m \u001b[0;32mdef\u001b[0m \u001b[0mvtos\u001b[0m\u001b[0;34m(\u001b[0m\u001b[0mv\u001b[0m\u001b[0;34m)\u001b[0m\u001b[0;34m:\u001b[0m\u001b[0;34m\u001b[0m\u001b[0;34m\u001b[0m\u001b[0m\n\u001b[0;32m-> 2088\u001b[0;31m     \u001b[0mdata_str\u001b[0m \u001b[0;34m=\u001b[0m \u001b[0;34mf\"jt.Var({v.numpy()}, dtype={v.dtype})\"\u001b[0m\u001b[0;34m\u001b[0m\u001b[0;34m\u001b[0m\u001b[0m\n\u001b[0m\u001b[1;32m   2089\u001b[0m     \u001b[0mdata_str\u001b[0m \u001b[0;34m=\u001b[0m \u001b[0mdata_str\u001b[0m\u001b[0;34m.\u001b[0m\u001b[0mreplace\u001b[0m\u001b[0;34m(\u001b[0m\u001b[0;34m\"\\n\"\u001b[0m\u001b[0;34m,\u001b[0m \u001b[0;34m\"\\n       \"\u001b[0m\u001b[0;34m)\u001b[0m\u001b[0;34m\u001b[0m\u001b[0;34m\u001b[0m\u001b[0m\n\u001b[1;32m   2090\u001b[0m     \u001b[0;32mreturn\u001b[0m \u001b[0mdata_str\u001b[0m\u001b[0;34m\u001b[0m\u001b[0;34m\u001b[0m\u001b[0m\n",
      "\u001b[0;31mRuntimeError\u001b[0m: Wrong inputs arguments, Please refer to examples(help(jt.numpy)).\n\nTypes of your inputs are:\n self\t= Var,\n args\t= (),\n\nThe function declarations are:\n ArrayArgs fetch_sync()\n\nFailed reason:\u001b[38;5;1m[f 0831 17:35:15.687319 44 parallel_compiler.cc:331] Error happend during compilation:\n [Error] source file location:/home/a516/.cache/jittor/jt1.3.9/g++12.3.0/py3.8.20/Linux-6.6.87.2xef/13thGenIntelRCx37/4832/default/cu12.8.61/jit/code__IN_SIZE_2__in0_dim_1__in0_type_int32__in1_dim_1__in1_type_int32__OUT_SIZE_2__out0_di___hash_fdebb71a9f996516_op.cc\nCompile operator(0/2)failed:Op(1066:0:2:2:i2:o2:s0:g1,code->...)\n\nReason: \u001b[38;5;1m[f 0831 17:35:12.596987 64:C0 op_compiler.cc:719] \u001b[38;5;1m[f 0831 17:35:12.596982 64:C0 op_compiler.cc:719] \u001b[38;5;1m[f 0831 17:35:12.596974 64:C0 op_compiler.cc:719] \u001b[38;5;1m[f 0831 17:35:12.596951 64:C0 op_compiler.cc:687] Check failed macros.at(dim)(1) == S(args.size())(2) out dimension not matched\u001b[m\nJit compiler error:\n                            @out(i, j) = @in0(i, j) + @in1(i, j);\u001b[m\nJit compiler error:\n@HEADER\u001b[m\nJit compiler error:\n#ifndef JIT\u001b[m\n\u001b[m"
     ]
    }
   ],
   "source": [
    "c = jt.arange(24).reshape(6, 4)\n",
    "c"
   ]
  },
  {
   "cell_type": "code",
   "execution_count": 28,
   "id": "13c0744c",
   "metadata": {},
   "outputs": [
    {
     "name": "stderr",
     "output_type": "stream",
     "text": [
      "\n",
      "Compiling Operators(1/2) used: 2.31s eta: 2.31s 2/2) used: 3.32s eta:    0s \n"
     ]
    },
    {
     "data": {
      "text/plain": [
       "(jt.Var([4], dtype=int32), 6, 4)"
      ]
     },
     "execution_count": 28,
     "metadata": {},
     "output_type": "execute_result"
    }
   ],
   "source": [
    "crop = jt.minimum(c.shape[0], c.shape[1])\n",
    "h, w = c.shape[0], c.shape[1]\n",
    "crop, h, w"
   ]
  },
  {
   "cell_type": "code",
   "execution_count": 29,
   "id": "ad47461a",
   "metadata": {},
   "outputs": [
    {
     "name": "stderr",
     "output_type": "stream",
     "text": [
      "\n",
      "Compiling Operators(1/3) used: 2.32s eta: 4.63s 3/3) used: 3.33s eta:    0s \n",
      "\n",
      "Compiling Operators(1/1) used: 2.53s eta:    0s \n",
      "\n",
      "Compiling Operators(2/2) used: 2.32s eta:    0s \n"
     ]
    },
    {
     "data": {
      "text/plain": [
       "jt.Var([[[ 4  5  6  7]\n",
       "         [ 8  9 10 11]\n",
       "         [12 13 14 15]\n",
       "         [16 17 18 19]]], dtype=int32)"
      ]
     },
     "execution_count": 29,
     "metadata": {},
     "output_type": "execute_result"
    }
   ],
   "source": [
    "c = c[(h - crop) // 2:(h + crop) // 2,\n",
    "          (w - crop) // 2:(w + crop) // 2]\n",
    "c.unsqueeze(0)"
   ]
  },
  {
   "cell_type": "code",
   "execution_count": 30,
   "id": "f4167b1a",
   "metadata": {},
   "outputs": [
    {
     "name": "stderr",
     "output_type": "stream",
     "text": [
      "\n",
      "Compiling Operators(1/1) used: 2.53s eta:    0s \n"
     ]
    },
    {
     "data": {
      "text/plain": [
       "jt.Var([[[[160 195  89 ... 226  12   6]\n",
       "          [ 21  28  58 ...  68  93 188]\n",
       "          [191 190  21 ... 242 144 175]\n",
       "          ...\n",
       "          [198 169 171 ...  82  99 192]\n",
       "          [179 249 237 ...  22 116 175]\n",
       "          [218 144 155 ... 227 221  62]]\n",
       "       \n",
       "         [[224  43  59 ... 191 204 147]\n",
       "          [218  90 141 ...  18 152  73]\n",
       "          [ 11   2  10 ...  27 194 167]\n",
       "          ...\n",
       "          [217 192 241 ... 174 176 130]\n",
       "          [  7 133  46 ...  90 109 186]\n",
       "          [219 218 225 ...  87 232 113]]\n",
       "       \n",
       "         [[ 25 186 172 ...  63 253 235]\n",
       "          [166 219  14 ... 199  70 151]\n",
       "          [ 36 232 232 ... 234 193  69]\n",
       "          ...\n",
       "          [255 124  37 ... 180 133 150]\n",
       "          [ 10 229 208 ... 253 238  33]\n",
       "          [ 34 166 186 ...  73 246 184]]]], dtype=uint8)"
      ]
     },
     "execution_count": 30,
     "metadata": {},
     "output_type": "execute_result"
    }
   ],
   "source": [
    "C = jt.randint(0, 256, (1, 3, 28, 28), dtype=jt.uint8)\n",
    "C"
   ]
  },
  {
   "cell_type": "code",
   "execution_count": 31,
   "id": "37eb1240",
   "metadata": {},
   "outputs": [],
   "source": [
    "d = jt.randint(0, 2, (1, 3, 3))\n",
    "d = d.unsqueeze(0)"
   ]
  },
  {
   "cell_type": "code",
   "execution_count": 32,
   "id": "55436b60",
   "metadata": {},
   "outputs": [
    {
     "name": "stderr",
     "output_type": "stream",
     "text": [
      "\n",
      "Compiling Operators(1/1) used: 2.64s eta:    0s \n",
      "\n",
      "Compiling Operators(1/2) used: 2.31s eta: 2.31s 2/2) used: 4.56s eta:    0s \n"
     ]
    },
    {
     "data": {
      "text/plain": [
       "jt.Var([[[[1 1 1 0 0]\n",
       "          [0 1 0 0 0]\n",
       "          [1 1 1 0 0]\n",
       "          [0 1 0 0 0]\n",
       "          [1 1 1 0 0]]]], dtype=uint8)"
      ]
     },
     "execution_count": 32,
     "metadata": {},
     "output_type": "execute_result"
    }
   ],
   "source": [
    "import jittor.transform as jtf\n",
    "import jittor.nn as nn\n",
    "def crop_resize(image, resolution):\n",
    "  \"\"\"Crop and resize an image to the given resolution.\"\"\"\n",
    "  crop = jt.minimum(image.shape[2], image.shape[3])\n",
    "  h, w = image.shape[2], image.shape[3]\n",
    "  image = image[(h - crop) // 2:(h + crop) // 2,\n",
    "          (w - crop) // 2:(w + crop) // 2]\n",
    "  \n",
    "  image = nn.resize(\n",
    "    image,\n",
    "    size=(resolution, resolution),\n",
    "    mode='bicubic'\n",
    "  )\n",
    "  \n",
    "  return jt.cast(image, jt.uint8)\n",
    "crop_resize(d, 5)"
   ]
  },
  {
   "cell_type": "code",
   "execution_count": 33,
   "id": "4f040d28",
   "metadata": {},
   "outputs": [
    {
     "data": {
      "text/plain": [
       "4"
      ]
     },
     "execution_count": 33,
     "metadata": {},
     "output_type": "execute_result"
    }
   ],
   "source": [
    "len(C.shape)"
   ]
  },
  {
   "cell_type": "code",
   "execution_count": 34,
   "id": "f8b55ac0",
   "metadata": {},
   "outputs": [
    {
     "name": "stderr",
     "output_type": "stream",
     "text": [
      "\n",
      "Compiling Operators(1/1) used: 2.53s eta:    0s \n"
     ]
    },
    {
     "data": {
      "text/plain": [
       "jt.Var([1 2 3 4], dtype=int32)"
      ]
     },
     "execution_count": 34,
     "metadata": {},
     "output_type": "execute_result"
    }
   ],
   "source": [
    "e = jt.Var([1,2,3.3,4])\n",
    "e = jt.round(e, dtype=jt.int32)\n",
    "e = e.cast(jt.int32)\n",
    "e"
   ]
  },
  {
   "cell_type": "code",
   "execution_count": 35,
   "id": "fb89abbc",
   "metadata": {},
   "outputs": [
    {
     "name": "stderr",
     "output_type": "stream",
     "text": [
      "\n",
      "Compiling Operators(1/3) used: 2.31s eta: 4.63s 3/3) used: 3.32s eta:    0s \n",
      "\n",
      "Compiling Operators(1/1) used: 2.57s eta:    0s \n"
     ]
    },
    {
     "data": {
      "text/plain": [
       "jt.Var([[[[160 215]\n",
       "          [217 251]]\n",
       "       \n",
       "         [[224 154]\n",
       "          [157 168]]\n",
       "       \n",
       "         [[ 25 221]\n",
       "          [215 208]]]], dtype=uint8)"
      ]
     },
     "execution_count": 35,
     "metadata": {},
     "output_type": "execute_result"
    }
   ],
   "source": [
    "def resize_small(image, resolution):\n",
    "  \"\"\"Shrink an image to the given resolution. **It only receives 4D tensor.**\"\"\"\n",
    "  h, w = image.shape[2], image.shape[3]\n",
    "  ratio = resolution / min(h, w)\n",
    "  h = jt.round(h * ratio).cast(jt.int32).item()\n",
    "  w = jt.round(w * ratio).cast(jt.int32).item()\n",
    "  return nn.resize(image, (h, w))\n",
    "resize_small(C, 2)"
   ]
  },
  {
   "cell_type": "code",
   "execution_count": 36,
   "id": "d94ecb5a",
   "metadata": {},
   "outputs": [
    {
     "name": "stdout",
     "output_type": "stream",
     "text": [
      "Help on function crop in module jittor.transform:\n",
      "\n",
      "crop(img, top, left, height, width)\n",
      "    Function for cropping image.\n",
      "    \n",
      "    Args::\n",
      "    \n",
      "        [in] img(Image.Image): Input image.\n",
      "        [in] top(int): the top boundary of the cropping box.\n",
      "        [in] left(int): the left boundary of the cropping box.\n",
      "        [in] height(int): height of the cropping box.\n",
      "        [in] width(int): width of the cropping box.\n",
      "    \n",
      "    Example::\n",
      "        \n",
      "        img = Image.open(...)\n",
      "        img_ = transform.crop(img, 10, 10, 100, 100)\n",
      "\n"
     ]
    }
   ],
   "source": [
    "help(jt.transform.crop)"
   ]
  },
  {
   "cell_type": "code",
   "execution_count": 37,
   "id": "f78bc54d",
   "metadata": {},
   "outputs": [
    {
     "data": {
      "text/plain": [
       "1"
      ]
     },
     "execution_count": 37,
     "metadata": {},
     "output_type": "execute_result"
    }
   ],
   "source": [
    "jt.get_device_count()"
   ]
  },
  {
   "cell_type": "code",
   "execution_count": 1,
   "id": "fcb65b91",
   "metadata": {},
   "outputs": [
    {
     "name": "stderr",
     "output_type": "stream",
     "text": [
      "\u001b[38;5;2m[i 0831 19:58:25.110016 68 compiler.py:956] Jittor(1.3.9.14) src: /home/a516/anaconda3/envs/Jittor/lib/python3.8/site-packages/jittor\u001b[m\n",
      "\u001b[38;5;2m[i 0831 19:58:25.114661 68 compiler.py:957] g++ at /usr/bin/g++(12.3.0)\u001b[m\n",
      "\u001b[38;5;2m[i 0831 19:58:25.115197 68 compiler.py:958] cache_path: /home/a516/.cache/jittor/jt1.3.9/g++12.3.0/py3.8.20/Linux-6.6.87.2xef/13thGenIntelRCx37/4832/default\u001b[m\n",
      "\u001b[38;5;2m[i 0831 19:58:25.123968 68 __init__.py:412] Found nvcc(12.8.61) at /usr/local/cuda-12.8/bin/nvcc.\u001b[m\n",
      "\u001b[38;5;2m[i 0831 19:58:25.246535 68 __init__.py:412] Found addr2line(2.42) at /usr/bin/addr2line.\u001b[m\n",
      "\u001b[38;5;2m[i 0831 19:58:25.308949 68 compiler.py:1013] cuda key:cu12.8.61\u001b[m\n",
      "\u001b[38;5;2m[i 0831 19:58:25.764482 68 __init__.py:227] Total mem: 15.43GB, using 5 procs for compiling.\u001b[m\n",
      "\u001b[38;5;2m[i 0831 19:58:25.896417 68 jit_compiler.cc:28] Load cc_path: /usr/bin/g++\u001b[m\n",
      "\u001b[38;5;2m[i 0831 19:58:26.150737 68 init.cc:63] Found cuda archs: [89,]\u001b[m\n",
      "\u001b[38;5;3m[w 0831 19:58:26.484639 68 compile_extern.py:203] CUDA related path found in LD_LIBRARY_PATH or PATH, This path may cause jittor found the wrong libs, please unset LD_LIBRARY_PATH and remove cuda lib path in Path. \n",
      "Or you can let jittor install cuda for you: `python3.x -m jittor_utils.install_cuda`\u001b[m\n"
     ]
    },
    {
     "ename": "NameError",
     "evalue": "name 'jt' is not defined",
     "output_type": "error",
     "traceback": [
      "\u001b[0;31m---------------------------------------------------------------------------\u001b[0m",
      "\u001b[0;31mNameError\u001b[0m                                 Traceback (most recent call last)",
      "\u001b[0;32m<ipython-input-1-e5d8f1a9593b>\u001b[0m in \u001b[0;36m<cell line: 2>\u001b[0;34m()\u001b[0m\n\u001b[1;32m      1\u001b[0m \u001b[0;32mfrom\u001b[0m \u001b[0mjittor\u001b[0m \u001b[0;32mimport\u001b[0m \u001b[0mFunction\u001b[0m\u001b[0;34m\u001b[0m\u001b[0;34m\u001b[0m\u001b[0m\n\u001b[0;32m----> 2\u001b[0;31m \u001b[0mjt\u001b[0m\u001b[0;34m.\u001b[0m\u001b[0mflags\u001b[0m\u001b[0;34m.\u001b[0m\u001b[0muse_cuda\u001b[0m \u001b[0;34m=\u001b[0m \u001b[0;36m1\u001b[0m\u001b[0;34m\u001b[0m\u001b[0;34m\u001b[0m\u001b[0m\n\u001b[0m\u001b[1;32m      3\u001b[0m \u001b[0;34m\u001b[0m\u001b[0m\n\u001b[1;32m      4\u001b[0m \u001b[0;32mclass\u001b[0m \u001b[0mFunc\u001b[0m\u001b[0;34m(\u001b[0m\u001b[0mFunction\u001b[0m\u001b[0;34m)\u001b[0m\u001b[0;34m:\u001b[0m\u001b[0;34m\u001b[0m\u001b[0;34m\u001b[0m\u001b[0m\n\u001b[1;32m      5\u001b[0m     \u001b[0;32mdef\u001b[0m \u001b[0mexecute\u001b[0m\u001b[0;34m(\u001b[0m\u001b[0mself\u001b[0m\u001b[0;34m,\u001b[0m \u001b[0ma\u001b[0m\u001b[0;34m,\u001b[0m \u001b[0mb\u001b[0m\u001b[0;34m)\u001b[0m\u001b[0;34m:\u001b[0m\u001b[0;34m\u001b[0m\u001b[0;34m\u001b[0m\u001b[0m\n",
      "\u001b[0;31mNameError\u001b[0m: name 'jt' is not defined"
     ]
    }
   ],
   "source": [
    "from jittor import Function\n",
    "jt.flags.use_cuda = 1\n",
    "\n",
    "class Func(Function):\n",
    "    def execute(self, a, b):\n",
    "        self.save_vars = a, b\n",
    "        return jt.code(a.shape, a.dtype, [a,b],\n",
    "            cuda_src='''\n",
    "                __global__ static void kernel1(@ARGS_DEF) {\n",
    "                    @PRECALC\n",
    "                    for (int i=blockIdx.x; i<in0_shape0; i+=gridDim.x)\n",
    "                    for (int j=threadIdx.x; j<in0_shape1; j+=blockDim.x)\n",
    "                        @out(i,j) = @in0(i,j)*@in1(i,j);\n",
    "                }\n",
    "                kernel1<<<32, 32>>>(@ARGS);\n",
    "            ''')\n",
    "\n",
    "    def grad(self, grad):\n",
    "        a, b = self.save_vars\n",
    "        return jt.code([a.shape, b.shape], [a.dtype, b.dtype], [a, b, grad],\n",
    "            cuda_src='''\n",
    "                __global__ static void kernel2(@ARGS_DEF) {\n",
    "                    @PRECALC\n",
    "                    for (int i=blockIdx.x; i<in0_shape0; i+=gridDim.x)\n",
    "                    for (int j=threadIdx.x; j<in0_shape1; j+=blockDim.x) {\n",
    "                        @out0(i,j) = @in2(i,j)*@in1(i,j);\n",
    "                        @out1(i,j) = @in2(i,j)*@in0(i,j);\n",
    "                    }\n",
    "                }\n",
    "                kernel2<<<32, 32>>>(@ARGS);\n",
    "            ''')\n",
    "        \n",
    "a = jt.random((100,100))\n",
    "b = jt.random((100,100))\n",
    "func = Func()\n",
    "c = func(a,b)\n",
    "print(c)\n",
    "print(jt.grad(c, [a, b]))"
   ]
  },
  {
   "cell_type": "code",
   "execution_count": 49,
   "id": "73ef0e46",
   "metadata": {},
   "outputs": [],
   "source": [
    "import jittor as jt\n",
    "\n",
    "def add_same_shape(a, b):\n",
    "    assert a.shape == b.shape, \"张量形状必须完全相同\"\n",
    "    return jt.code(\n",
    "        [a.shape, b.shape],        # 输入形状\n",
    "        [a.dtype, b.dtype],                 # 输出类型（和输入一致）\n",
    "        [a, b],                    # 输入张量\n",
    "        cuda_src='''\n",
    "        __global__ void kernel_add(@ARGS_DEF) {\n",
    "            @PRECALC\n",
    "            int N = in0_num; \n",
    "            int idx = threadIdx.x + blockIdx.x * blockDim.x;\n",
    "            int stride = blockDim.x * gridDim.x;\n",
    "\n",
    "            for (int i = idx; i < N; i += stride) {\n",
    "                @out_flat[i] = @in0_flat[i] + @in1_flat[i];\n",
    "            }\n",
    "        }\n",
    "\n",
    "        \n",
    "        int threads = 256;\n",
    "        int blocks = (in0_num + threads - 1) / threads;\n",
    "        kernel_add<<<blocks, threads>>>(@ARGS);\n",
    "        '''\n",
    "    )\n"
   ]
  },
  {
   "cell_type": "code",
   "execution_count": 50,
   "id": "cc03ea8b",
   "metadata": {},
   "outputs": [
    {
     "ename": "RuntimeError",
     "evalue": "Wrong inputs arguments, Please refer to examples(help(jt.numpy)).\n\nTypes of your inputs are:\n self\t= Var,\n args\t= (),\n\nThe function declarations are:\n ArrayArgs fetch_sync()\n\nFailed reason:\u001b[38;5;1m[f 0831 17:38:27.893350 44 parallel_compiler.cc:331] Error happend during compilation:\n [Error] source file location:/home/a516/.cache/jittor/jt1.3.9/g++12.3.0/py3.8.20/Linux-6.6.87.2xef/13thGenIntelRCx37/4832/default/cu12.8.61/jit/code__IN_SIZE_2__in0_dim_1__in0_type_int32__in1_dim_1__in1_type_int32__OUT_SIZE_2__out0_di___hash_d3924fc96af2ce9d_op.cc\nCompile operator(1/2)failed:Op(2149:0:2:2:i2:o2:s0:g1,code->...)\n\nReason: \u001b[38;5;1m[f 0831 17:38:27.893318 60:C1 op_compiler.cc:719] \u001b[38;5;1m[f 0831 17:38:27.893314 60:C1 op_compiler.cc:719] \u001b[38;5;1m[f 0831 17:38:27.893306 60:C1 op_compiler.cc:719] \u001b[38;5;1m[f 0831 17:38:27.893291 60:C1 op_compiler.cc:702] Check failed: iter!=defs.end()  Something wrong... Could you please report this issue?\n Jit var  out_flat  not found.\u001b[m\nJit compiler error:\n                @out_flat[i] = @in0_flat[i] + @in1_flat[i];\u001b[m\nJit compiler error:\n@HEADER\u001b[m\nJit compiler error:\n#ifndef JIT\u001b[m\n\u001b[m",
     "output_type": "error",
     "traceback": [
      "\u001b[0;31m---------------------------------------------------------------------------\u001b[0m",
      "\u001b[0;31mRuntimeError\u001b[0m                              Traceback (most recent call last)",
      "\u001b[0;32m~/anaconda3/envs/Jittor/lib/python3.8/site-packages/IPython/core/formatters.py\u001b[0m in \u001b[0;36m__call__\u001b[0;34m(self, obj)\u001b[0m\n\u001b[1;32m    700\u001b[0m                 \u001b[0mtype_pprinters\u001b[0m\u001b[0;34m=\u001b[0m\u001b[0mself\u001b[0m\u001b[0;34m.\u001b[0m\u001b[0mtype_printers\u001b[0m\u001b[0;34m,\u001b[0m\u001b[0;34m\u001b[0m\u001b[0;34m\u001b[0m\u001b[0m\n\u001b[1;32m    701\u001b[0m                 deferred_pprinters=self.deferred_printers)\n\u001b[0;32m--> 702\u001b[0;31m             \u001b[0mprinter\u001b[0m\u001b[0;34m.\u001b[0m\u001b[0mpretty\u001b[0m\u001b[0;34m(\u001b[0m\u001b[0mobj\u001b[0m\u001b[0;34m)\u001b[0m\u001b[0;34m\u001b[0m\u001b[0;34m\u001b[0m\u001b[0m\n\u001b[0m\u001b[1;32m    703\u001b[0m             \u001b[0mprinter\u001b[0m\u001b[0;34m.\u001b[0m\u001b[0mflush\u001b[0m\u001b[0;34m(\u001b[0m\u001b[0;34m)\u001b[0m\u001b[0;34m\u001b[0m\u001b[0;34m\u001b[0m\u001b[0m\n\u001b[1;32m    704\u001b[0m             \u001b[0;32mreturn\u001b[0m \u001b[0mstream\u001b[0m\u001b[0;34m.\u001b[0m\u001b[0mgetvalue\u001b[0m\u001b[0;34m(\u001b[0m\u001b[0;34m)\u001b[0m\u001b[0;34m\u001b[0m\u001b[0;34m\u001b[0m\u001b[0m\n",
      "\u001b[0;32m~/anaconda3/envs/Jittor/lib/python3.8/site-packages/IPython/lib/pretty.py\u001b[0m in \u001b[0;36mpretty\u001b[0;34m(self, obj)\u001b[0m\n\u001b[1;32m    375\u001b[0m                 \u001b[0;32mif\u001b[0m \u001b[0mcls\u001b[0m \u001b[0;32min\u001b[0m \u001b[0mself\u001b[0m\u001b[0;34m.\u001b[0m\u001b[0mtype_pprinters\u001b[0m\u001b[0;34m:\u001b[0m\u001b[0;34m\u001b[0m\u001b[0;34m\u001b[0m\u001b[0m\n\u001b[1;32m    376\u001b[0m                     \u001b[0;31m# printer registered in self.type_pprinters\u001b[0m\u001b[0;34m\u001b[0m\u001b[0;34m\u001b[0m\u001b[0;34m\u001b[0m\u001b[0m\n\u001b[0;32m--> 377\u001b[0;31m                     \u001b[0;32mreturn\u001b[0m \u001b[0mself\u001b[0m\u001b[0;34m.\u001b[0m\u001b[0mtype_pprinters\u001b[0m\u001b[0;34m[\u001b[0m\u001b[0mcls\u001b[0m\u001b[0;34m]\u001b[0m\u001b[0;34m(\u001b[0m\u001b[0mobj\u001b[0m\u001b[0;34m,\u001b[0m \u001b[0mself\u001b[0m\u001b[0;34m,\u001b[0m \u001b[0mcycle\u001b[0m\u001b[0;34m)\u001b[0m\u001b[0;34m\u001b[0m\u001b[0;34m\u001b[0m\u001b[0m\n\u001b[0m\u001b[1;32m    378\u001b[0m                 \u001b[0;32melse\u001b[0m\u001b[0;34m:\u001b[0m\u001b[0;34m\u001b[0m\u001b[0;34m\u001b[0m\u001b[0m\n\u001b[1;32m    379\u001b[0m                     \u001b[0;31m# deferred printer\u001b[0m\u001b[0;34m\u001b[0m\u001b[0;34m\u001b[0m\u001b[0;34m\u001b[0m\u001b[0m\n",
      "\u001b[0;32m~/anaconda3/envs/Jittor/lib/python3.8/site-packages/IPython/lib/pretty.py\u001b[0m in \u001b[0;36minner\u001b[0;34m(obj, p, cycle)\u001b[0m\n\u001b[1;32m    553\u001b[0m                 \u001b[0mp\u001b[0m\u001b[0;34m.\u001b[0m\u001b[0mtext\u001b[0m\u001b[0;34m(\u001b[0m\u001b[0;34m','\u001b[0m\u001b[0;34m)\u001b[0m\u001b[0;34m\u001b[0m\u001b[0;34m\u001b[0m\u001b[0m\n\u001b[1;32m    554\u001b[0m                 \u001b[0mp\u001b[0m\u001b[0;34m.\u001b[0m\u001b[0mbreakable\u001b[0m\u001b[0;34m(\u001b[0m\u001b[0;34m)\u001b[0m\u001b[0;34m\u001b[0m\u001b[0;34m\u001b[0m\u001b[0m\n\u001b[0;32m--> 555\u001b[0;31m             \u001b[0mp\u001b[0m\u001b[0;34m.\u001b[0m\u001b[0mpretty\u001b[0m\u001b[0;34m(\u001b[0m\u001b[0mx\u001b[0m\u001b[0;34m)\u001b[0m\u001b[0;34m\u001b[0m\u001b[0;34m\u001b[0m\u001b[0m\n\u001b[0m\u001b[1;32m    556\u001b[0m         \u001b[0;32mif\u001b[0m \u001b[0mlen\u001b[0m\u001b[0;34m(\u001b[0m\u001b[0mobj\u001b[0m\u001b[0;34m)\u001b[0m \u001b[0;34m==\u001b[0m \u001b[0;36m1\u001b[0m \u001b[0;32mand\u001b[0m \u001b[0mtype\u001b[0m\u001b[0;34m(\u001b[0m\u001b[0mobj\u001b[0m\u001b[0;34m)\u001b[0m \u001b[0;32mis\u001b[0m \u001b[0mtuple\u001b[0m\u001b[0;34m:\u001b[0m\u001b[0;34m\u001b[0m\u001b[0;34m\u001b[0m\u001b[0m\n\u001b[1;32m    557\u001b[0m             \u001b[0;31m# Special case for 1-item tuples.\u001b[0m\u001b[0;34m\u001b[0m\u001b[0;34m\u001b[0m\u001b[0;34m\u001b[0m\u001b[0m\n",
      "\u001b[0;32m~/anaconda3/envs/Jittor/lib/python3.8/site-packages/IPython/lib/pretty.py\u001b[0m in \u001b[0;36mpretty\u001b[0;34m(self, obj)\u001b[0m\n\u001b[1;32m    392\u001b[0m                         \u001b[0;32mif\u001b[0m \u001b[0mcls\u001b[0m \u001b[0;32mis\u001b[0m \u001b[0;32mnot\u001b[0m \u001b[0mobject\u001b[0m\u001b[0;31m \u001b[0m\u001b[0;31m\\\u001b[0m\u001b[0;34m\u001b[0m\u001b[0;34m\u001b[0m\u001b[0m\n\u001b[1;32m    393\u001b[0m                                 \u001b[0;32mand\u001b[0m \u001b[0mcallable\u001b[0m\u001b[0;34m(\u001b[0m\u001b[0mcls\u001b[0m\u001b[0;34m.\u001b[0m\u001b[0m__dict__\u001b[0m\u001b[0;34m.\u001b[0m\u001b[0mget\u001b[0m\u001b[0;34m(\u001b[0m\u001b[0;34m'__repr__'\u001b[0m\u001b[0;34m)\u001b[0m\u001b[0;34m)\u001b[0m\u001b[0;34m:\u001b[0m\u001b[0;34m\u001b[0m\u001b[0;34m\u001b[0m\u001b[0m\n\u001b[0;32m--> 394\u001b[0;31m                             \u001b[0;32mreturn\u001b[0m \u001b[0m_repr_pprint\u001b[0m\u001b[0;34m(\u001b[0m\u001b[0mobj\u001b[0m\u001b[0;34m,\u001b[0m \u001b[0mself\u001b[0m\u001b[0;34m,\u001b[0m \u001b[0mcycle\u001b[0m\u001b[0;34m)\u001b[0m\u001b[0;34m\u001b[0m\u001b[0;34m\u001b[0m\u001b[0m\n\u001b[0m\u001b[1;32m    395\u001b[0m \u001b[0;34m\u001b[0m\u001b[0m\n\u001b[1;32m    396\u001b[0m             \u001b[0;32mreturn\u001b[0m \u001b[0m_default_pprint\u001b[0m\u001b[0;34m(\u001b[0m\u001b[0mobj\u001b[0m\u001b[0;34m,\u001b[0m \u001b[0mself\u001b[0m\u001b[0;34m,\u001b[0m \u001b[0mcycle\u001b[0m\u001b[0;34m)\u001b[0m\u001b[0;34m\u001b[0m\u001b[0;34m\u001b[0m\u001b[0m\n",
      "\u001b[0;32m~/anaconda3/envs/Jittor/lib/python3.8/site-packages/IPython/lib/pretty.py\u001b[0m in \u001b[0;36m_repr_pprint\u001b[0;34m(obj, p, cycle)\u001b[0m\n\u001b[1;32m    698\u001b[0m     \u001b[0;34m\"\"\"A pprint that just redirects to the normal repr function.\"\"\"\u001b[0m\u001b[0;34m\u001b[0m\u001b[0;34m\u001b[0m\u001b[0m\n\u001b[1;32m    699\u001b[0m     \u001b[0;31m# Find newlines and replace them with p.break_()\u001b[0m\u001b[0;34m\u001b[0m\u001b[0;34m\u001b[0m\u001b[0;34m\u001b[0m\u001b[0m\n\u001b[0;32m--> 700\u001b[0;31m     \u001b[0moutput\u001b[0m \u001b[0;34m=\u001b[0m \u001b[0mrepr\u001b[0m\u001b[0;34m(\u001b[0m\u001b[0mobj\u001b[0m\u001b[0;34m)\u001b[0m\u001b[0;34m\u001b[0m\u001b[0;34m\u001b[0m\u001b[0m\n\u001b[0m\u001b[1;32m    701\u001b[0m     \u001b[0mlines\u001b[0m \u001b[0;34m=\u001b[0m \u001b[0moutput\u001b[0m\u001b[0;34m.\u001b[0m\u001b[0msplitlines\u001b[0m\u001b[0;34m(\u001b[0m\u001b[0;34m)\u001b[0m\u001b[0;34m\u001b[0m\u001b[0;34m\u001b[0m\u001b[0m\n\u001b[1;32m    702\u001b[0m     \u001b[0;32mwith\u001b[0m \u001b[0mp\u001b[0m\u001b[0;34m.\u001b[0m\u001b[0mgroup\u001b[0m\u001b[0;34m(\u001b[0m\u001b[0;34m)\u001b[0m\u001b[0;34m:\u001b[0m\u001b[0;34m\u001b[0m\u001b[0;34m\u001b[0m\u001b[0m\n",
      "\u001b[0;32m~/anaconda3/envs/Jittor/lib/python3.8/site-packages/jittor/__init__.py\u001b[0m in \u001b[0;36mvtos\u001b[0;34m(v)\u001b[0m\n\u001b[1;32m   2086\u001b[0m \u001b[0;34m\u001b[0m\u001b[0m\n\u001b[1;32m   2087\u001b[0m \u001b[0;32mdef\u001b[0m \u001b[0mvtos\u001b[0m\u001b[0;34m(\u001b[0m\u001b[0mv\u001b[0m\u001b[0;34m)\u001b[0m\u001b[0;34m:\u001b[0m\u001b[0;34m\u001b[0m\u001b[0;34m\u001b[0m\u001b[0m\n\u001b[0;32m-> 2088\u001b[0;31m     \u001b[0mdata_str\u001b[0m \u001b[0;34m=\u001b[0m \u001b[0;34mf\"jt.Var({v.numpy()}, dtype={v.dtype})\"\u001b[0m\u001b[0;34m\u001b[0m\u001b[0;34m\u001b[0m\u001b[0m\n\u001b[0m\u001b[1;32m   2089\u001b[0m     \u001b[0mdata_str\u001b[0m \u001b[0;34m=\u001b[0m \u001b[0mdata_str\u001b[0m\u001b[0;34m.\u001b[0m\u001b[0mreplace\u001b[0m\u001b[0;34m(\u001b[0m\u001b[0;34m\"\\n\"\u001b[0m\u001b[0;34m,\u001b[0m \u001b[0;34m\"\\n       \"\u001b[0m\u001b[0;34m)\u001b[0m\u001b[0;34m\u001b[0m\u001b[0;34m\u001b[0m\u001b[0m\n\u001b[1;32m   2090\u001b[0m     \u001b[0;32mreturn\u001b[0m \u001b[0mdata_str\u001b[0m\u001b[0;34m\u001b[0m\u001b[0;34m\u001b[0m\u001b[0m\n",
      "\u001b[0;31mRuntimeError\u001b[0m: Wrong inputs arguments, Please refer to examples(help(jt.numpy)).\n\nTypes of your inputs are:\n self\t= Var,\n args\t= (),\n\nThe function declarations are:\n ArrayArgs fetch_sync()\n\nFailed reason:\u001b[38;5;1m[f 0831 17:38:27.893350 44 parallel_compiler.cc:331] Error happend during compilation:\n [Error] source file location:/home/a516/.cache/jittor/jt1.3.9/g++12.3.0/py3.8.20/Linux-6.6.87.2xef/13thGenIntelRCx37/4832/default/cu12.8.61/jit/code__IN_SIZE_2__in0_dim_1__in0_type_int32__in1_dim_1__in1_type_int32__OUT_SIZE_2__out0_di___hash_d3924fc96af2ce9d_op.cc\nCompile operator(1/2)failed:Op(2149:0:2:2:i2:o2:s0:g1,code->...)\n\nReason: \u001b[38;5;1m[f 0831 17:38:27.893318 60:C1 op_compiler.cc:719] \u001b[38;5;1m[f 0831 17:38:27.893314 60:C1 op_compiler.cc:719] \u001b[38;5;1m[f 0831 17:38:27.893306 60:C1 op_compiler.cc:719] \u001b[38;5;1m[f 0831 17:38:27.893291 60:C1 op_compiler.cc:702] Check failed: iter!=defs.end()  Something wrong... Could you please report this issue?\n Jit var  out_flat  not found.\u001b[m\nJit compiler error:\n                @out_flat[i] = @in0_flat[i] + @in1_flat[i];\u001b[m\nJit compiler error:\n@HEADER\u001b[m\nJit compiler error:\n#ifndef JIT\u001b[m\n\u001b[m"
     ]
    }
   ],
   "source": [
    "jt.flags.use_cuda = 1\n",
    "a = jt.Var([1, 2])\n",
    "b = jt.Var([3, 4])\n",
    "add_same_shape(a, b)"
   ]
  }
 ],
 "metadata": {
  "kernelspec": {
   "display_name": "Jittor",
   "language": "python",
   "name": "python3"
  },
  "language_info": {
   "codemirror_mode": {
    "name": "ipython",
    "version": 3
   },
   "file_extension": ".py",
   "mimetype": "text/x-python",
   "name": "python",
   "nbconvert_exporter": "python",
   "pygments_lexer": "ipython3",
   "version": "3.8.20"
  }
 },
 "nbformat": 4,
 "nbformat_minor": 5
}
