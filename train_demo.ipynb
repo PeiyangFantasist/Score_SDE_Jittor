{
 "cells": [
  {
   "cell_type": "code",
   "execution_count": 2,
   "id": "dc0070d1",
   "metadata": {},
   "outputs": [
    {
     "name": "stderr",
     "output_type": "stream",
     "text": [
      "\u001b[38;5;2m[i 1016 11:23:35.267350 28 compiler.py:956] Jittor(1.3.9.14) src: /home/a516/anaconda3/envs/Jittor/lib/python3.8/site-packages/jittor\u001b[m\n",
      "\u001b[38;5;2m[i 1016 11:23:35.278038 28 compiler.py:957] g++ at /usr/bin/g++(12.3.0)\u001b[m\n",
      "\u001b[38;5;2m[i 1016 11:23:35.279094 28 compiler.py:958] cache_path: /home/a516/.cache/jittor/jt1.3.9/g++12.3.0/py3.8.20/Linux-6.6.87.2xef/13thGenIntelRCx37/4832/default\u001b[m\n",
      "\u001b[38;5;2m[i 1016 11:23:35.289202 28 __init__.py:412] Found nvcc(12.8.61) at /usr/local/cuda-12.8/bin/nvcc.\u001b[m\n",
      "\u001b[38;5;2m[i 1016 11:23:35.439983 28 __init__.py:412] Found addr2line(2.42) at /usr/bin/addr2line.\u001b[m\n",
      "\u001b[38;5;2m[i 1016 11:23:35.535239 28 compiler.py:1013] cuda key:cu12.8.61\u001b[m\n",
      "\u001b[38;5;2m[i 1016 11:23:35.961746 28 __init__.py:227] Total mem: 15.43GB, using 5 procs for compiling.\u001b[m\n",
      "\u001b[38;5;2m[i 1016 11:23:34.459871 28 jit_compiler.cc:28] Load cc_path: /usr/bin/g++\u001b[m\n",
      "\u001b[38;5;2m[i 1016 11:23:34.690172 28 init.cc:63] Found cuda archs: [89,]\u001b[m\n",
      "\u001b[38;5;3m[w 1016 11:23:36.120708 28 compile_extern.py:203] CUDA related path found in LD_LIBRARY_PATH or PATH, This path may cause jittor found the wrong libs, please unset LD_LIBRARY_PATH and remove cuda lib path in Path. \n",
      "Or you can let jittor install cuda for you: `python3.x -m jittor_utils.install_cuda`\u001b[m\n",
      "\u001b[38;5;2m[i 1016 11:23:36.749558 28 cuda_flags.cc:49] CUDA enabled.\u001b[m\n",
      "/home/a516/anaconda3/envs/Jittor/lib/python3.8/site-packages/tqdm/auto.py:21: TqdmWarning: IProgress not found. Please update jupyter and ipywidgets. See https://ipywidgets.readthedocs.io/en/stable/user_install.html\n",
      "  from .autonotebook import tqdm as notebook_tqdm\n"
     ]
    },
    {
     "ename": "TypeError",
     "evalue": "main() missing 1 required positional argument: 'argv'",
     "output_type": "error",
     "traceback": [
      "\u001b[0;31m---------------------------------------------------------------------------\u001b[0m",
      "\u001b[0;31mTypeError\u001b[0m                                 Traceback (most recent call last)",
      "Cell \u001b[0;32mIn[2], line 11\u001b[0m\n\u001b[1;32m      9\u001b[0m \u001b[38;5;66;03m# 直接导入并执行\u001b[39;00m\n\u001b[1;32m     10\u001b[0m \u001b[38;5;28;01mimport\u001b[39;00m \u001b[38;5;21;01mmain\u001b[39;00m\n\u001b[0;32m---> 11\u001b[0m \u001b[43mmain\u001b[49m\u001b[38;5;241;43m.\u001b[39;49m\u001b[43mmain\u001b[49m\u001b[43m(\u001b[49m\u001b[43m)\u001b[49m\n",
      "\u001b[0;31mTypeError\u001b[0m: main() missing 1 required positional argument: 'argv'"
     ]
    }
   ],
   "source": [
    "import sys\n",
    "sys.argv = [\n",
    "    'main.py',\n",
    "    '--config', 'score_sde_jittor/configs/ve/celeba_ncsnpp.py',\n",
    "    '--workdir', 'score_sde_jittor/train_dir',\n",
    "    '--mode', 'train'\n",
    "]\n",
    "\n",
    "# 直接导入并执行\n",
    "import main\n",
    "main.main()"
   ]
  }
 ],
 "metadata": {
  "kernelspec": {
   "display_name": "Jittor",
   "language": "python",
   "name": "python3"
  },
  "language_info": {
   "codemirror_mode": {
    "name": "ipython",
    "version": 3
   },
   "file_extension": ".py",
   "mimetype": "text/x-python",
   "name": "python",
   "nbconvert_exporter": "python",
   "pygments_lexer": "ipython3",
   "version": "3.8.20"
  }
 },
 "nbformat": 4,
 "nbformat_minor": 5
}
